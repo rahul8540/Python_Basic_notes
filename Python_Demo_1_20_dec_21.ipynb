{
 "cells": [
  {
   "cell_type": "code",
   "execution_count": null,
   "metadata": {
    "colab": {
     "base_uri": "https://localhost:8080/"
    },
    "id": "He_RJs_yABUi",
    "outputId": "51d0c345-6156-4bdd-f281-aba11d3d27f6"
   },
   "outputs": [
    {
     "name": "stdout",
     "output_type": "stream",
     "text": [
      "Hello World!!!!\n"
     ]
    }
   ],
   "source": [
    "print('Hello World!!!!')"
   ]
  },
  {
   "cell_type": "code",
   "execution_count": null,
   "metadata": {
    "id": "k0bul747AG47"
   },
   "outputs": [],
   "source": [
    "#Variables\n",
    "#Types of Data\n",
    "#Operands\n",
    "#If - Else\n",
    "#loops - for loop & while\n",
    "#functions & scope of variable\n",
    "#Classes"
   ]
  },
  {
   "cell_type": "code",
   "execution_count": null,
   "metadata": {
    "id": "KSbV0ys8CW4Z"
   },
   "outputs": [],
   "source": [
    "a1,a2,b = 5 , 6 , 5.5\n",
    "c = 'Bipul'\n",
    "d = [3,6,8,2,5,8]        #Mutable\n",
    "e = (4,7,3,2,9,4)        #Immutable\n",
    "f = {'name':'Bipul' , 'email':'bipul@abc.com'}"
   ]
  },
  {
   "cell_type": "code",
   "execution_count": null,
   "metadata": {
    "colab": {
     "base_uri": "https://localhost:8080/"
    },
    "id": "2kH676TlCoM5",
    "outputId": "37bc7ce5-d5a9-4b24-afc0-27cf5e36a17b"
   },
   "outputs": [
    {
     "name": "stdout",
     "output_type": "stream",
     "text": [
      "5 <class 'int'>\n",
      "6 <class 'int'>\n",
      "5.5 <class 'float'>\n",
      "Bipul <class 'str'>\n",
      "[3, 6, 8, 2, 5, 8] <class 'list'>\n",
      "(4, 7, 3, 2, 9, 4) <class 'tuple'>\n",
      "{'name': 'Bipul', 'email': 'bipul@abc.com'} <class 'dict'>\n"
     ]
    }
   ],
   "source": [
    "print(a1 , type(a1))\n",
    "print(a2 , type(a2))\n",
    "print(b , type(b))\n",
    "print(c , type(c))\n",
    "print(d , type(d))\n",
    "print(e , type(e))\n",
    "print(f , type(f))"
   ]
  },
  {
   "cell_type": "code",
   "execution_count": null,
   "metadata": {
    "colab": {
     "base_uri": "https://localhost:8080/"
    },
    "id": "ufOYZLgGCxve",
    "outputId": "08b5f8c4-8f6c-4c7f-9037-3e54d0e56c30"
   },
   "outputs": [
    {
     "name": "stdout",
     "output_type": "stream",
     "text": [
      "9.0\n",
      "9.0\n",
      "9.0\n"
     ]
    }
   ],
   "source": [
    "x = y = z = 9.0\n",
    "print(x)\n",
    "print(y)\n",
    "print(z)"
   ]
  },
  {
   "cell_type": "code",
   "execution_count": null,
   "metadata": {
    "colab": {
     "base_uri": "https://localhost:8080/"
    },
    "id": "YQRXh5cQFlbM",
    "outputId": "d0bf1d48-4c62-4af6-e88d-6d40fe0740eb"
   },
   "outputs": [
    {
     "name": "stdout",
     "output_type": "stream",
     "text": [
      "[2, 5, 8.0, 'Hello']\n"
     ]
    }
   ],
   "source": [
    "x = [2,5,8.0,'Hello']\n",
    "print(x)"
   ]
  },
  {
   "cell_type": "code",
   "execution_count": null,
   "metadata": {
    "colab": {
     "base_uri": "https://localhost:8080/"
    },
    "id": "FkjTNlwzF6S5",
    "outputId": "804ad17b-9326-4157-dea5-98240e0ee6c5"
   },
   "outputs": [
    {
     "name": "stdout",
     "output_type": "stream",
     "text": [
      "<class 'list'>\n",
      "6\n"
     ]
    }
   ],
   "source": [
    "d = [3,6,8,2,5,8]\n",
    "print(type(d))\n",
    "print(len(d))"
   ]
  },
  {
   "cell_type": "code",
   "execution_count": null,
   "metadata": {
    "colab": {
     "base_uri": "https://localhost:8080/"
    },
    "id": "BlrD7DZkJq7R",
    "outputId": "63e9af3f-8cf9-4cac-c99d-9957f040815d"
   },
   "outputs": [
    {
     "name": "stdout",
     "output_type": "stream",
     "text": [
      "3\n",
      "6\n",
      "8\n"
     ]
    }
   ],
   "source": [
    "print(d[0])\n",
    "print(d[1])\n",
    "print(d[2])"
   ]
  },
  {
   "cell_type": "code",
   "execution_count": null,
   "metadata": {
    "colab": {
     "base_uri": "https://localhost:8080/"
    },
    "id": "S8GYJhEPJ3m2",
    "outputId": "81b9c0bc-fb8f-4b3f-a6ff-cef6e9e99bf5"
   },
   "outputs": [
    {
     "name": "stdout",
     "output_type": "stream",
     "text": [
      "[3, 6, 8]\n"
     ]
    }
   ],
   "source": [
    "#[inital_index : initial_index + number of steps]\n",
    "print(d[0 : 3])"
   ]
  },
  {
   "cell_type": "code",
   "execution_count": null,
   "metadata": {
    "colab": {
     "base_uri": "https://localhost:8080/"
    },
    "id": "lgpyHR24KAV3",
    "outputId": "2c53d9cd-6a0b-4f58-aff7-7083785a56e9"
   },
   "outputs": [
    {
     "name": "stdout",
     "output_type": "stream",
     "text": [
      "[8, 2, 5]\n"
     ]
    }
   ],
   "source": [
    "print(d[2 : 5])"
   ]
  },
  {
   "cell_type": "code",
   "execution_count": null,
   "metadata": {
    "colab": {
     "base_uri": "https://localhost:8080/"
    },
    "id": "6PZxT9pcKTd6",
    "outputId": "928a13bc-7daf-47c5-a545-d4910a2eee8b"
   },
   "outputs": [
    {
     "name": "stdout",
     "output_type": "stream",
     "text": [
      "3 8 5\n"
     ]
    }
   ],
   "source": [
    "print(d[0],d[2],d[4])"
   ]
  },
  {
   "cell_type": "code",
   "execution_count": null,
   "metadata": {
    "colab": {
     "base_uri": "https://localhost:8080/"
    },
    "id": "qV_1TbJ6K1i7",
    "outputId": "9919cd22-7f50-4aed-df20-412a80e582a9"
   },
   "outputs": [
    {
     "name": "stdout",
     "output_type": "stream",
     "text": [
      "[3, 6, 8, 2, 5, 8]\n",
      "[3, 6, 18, 2, 5, 8]\n"
     ]
    }
   ],
   "source": [
    "print(d)\n",
    "d[2] = 18\n",
    "print(d)"
   ]
  },
  {
   "cell_type": "code",
   "execution_count": null,
   "metadata": {
    "colab": {
     "base_uri": "https://localhost:8080/"
    },
    "id": "OnJngmHSLX1D",
    "outputId": "d53d2dda-bf2e-42b7-e1c2-8c62b10c4e75"
   },
   "outputs": [
    {
     "name": "stdout",
     "output_type": "stream",
     "text": [
      "[3, 6, 18, 2, 5, 8]\n",
      "[3, 6, 18, 2, 5, 8, 55]\n"
     ]
    }
   ],
   "source": [
    "#add or remove an existing element\n",
    "print(d)\n",
    "d.append(55)\n",
    "print(d)"
   ]
  },
  {
   "cell_type": "code",
   "execution_count": null,
   "metadata": {
    "colab": {
     "base_uri": "https://localhost:8080/"
    },
    "id": "_XFk7XYELhWA",
    "outputId": "25a8a53c-90e3-448d-a227-46a3b90d3215"
   },
   "outputs": [
    {
     "name": "stdout",
     "output_type": "stream",
     "text": [
      "[3, 6, 18, 2, 5, 8, 55]\n",
      "[3, 6, 18, 2, 8, 55]\n"
     ]
    }
   ],
   "source": [
    "print(d)\n",
    "d.remove(5)\n",
    "print(d)"
   ]
  },
  {
   "cell_type": "code",
   "execution_count": null,
   "metadata": {
    "colab": {
     "base_uri": "https://localhost:8080/"
    },
    "id": "-2Oed-5SLnGF",
    "outputId": "fbdb22b6-4c30-4546-8e76-18a7373dc399"
   },
   "outputs": [
    {
     "name": "stdout",
     "output_type": "stream",
     "text": [
      "[3, 6, 18, 2, 8, 55]\n",
      "[3, 6, 18, 22, 2, 8, 55]\n"
     ]
    }
   ],
   "source": [
    "print(d)\n",
    "d.insert(3,22)\n",
    "print(d)"
   ]
  },
  {
   "cell_type": "code",
   "execution_count": null,
   "metadata": {
    "colab": {
     "base_uri": "https://localhost:8080/"
    },
    "id": "cr3ZqfR8Lwa4",
    "outputId": "0cd1ff46-4105-4426-edc7-3db8d5089230"
   },
   "outputs": [
    {
     "name": "stdout",
     "output_type": "stream",
     "text": [
      "[3, 6, 18, 22, 2, 8, 55]\n",
      "[3, 6, 22, 2, 8, 55]\n"
     ]
    }
   ],
   "source": [
    "print(d)\n",
    "d.pop(2)\n",
    "print(d)"
   ]
  },
  {
   "cell_type": "markdown",
   "metadata": {
    "id": "bkQksVV4NPpb"
   },
   "source": [
    "#Tuple"
   ]
  },
  {
   "cell_type": "code",
   "execution_count": null,
   "metadata": {
    "colab": {
     "base_uri": "https://localhost:8080/"
    },
    "id": "GFaCox3vL31i",
    "outputId": "a53f751a-1ade-459e-9284-1d59d1c81d03"
   },
   "outputs": [
    {
     "name": "stdout",
     "output_type": "stream",
     "text": [
      "<class 'tuple'>\n",
      "6\n",
      "4\n",
      "3\n",
      "(4, 7, 3)\n"
     ]
    }
   ],
   "source": [
    "e = (4,7,3,2,9,4)\n",
    "print(type(e))\n",
    "print(len(e))\n",
    "print(e[0])\n",
    "print(e[2])\n",
    "print(e[0:3])"
   ]
  },
  {
   "cell_type": "code",
   "execution_count": null,
   "metadata": {
    "colab": {
     "base_uri": "https://localhost:8080/",
     "height": 173
    },
    "id": "nATm62nVNa7s",
    "outputId": "928ec59c-3557-4661-e5af-38b94d3244e9"
   },
   "outputs": [
    {
     "ename": "TypeError",
     "evalue": "ignored",
     "output_type": "error",
     "traceback": [
      "\u001b[0;31m---------------------------------------------------------------------------\u001b[0m",
      "\u001b[0;31mTypeError\u001b[0m                                 Traceback (most recent call last)",
      "\u001b[0;32m<ipython-input-44-29627bb60a74>\u001b[0m in \u001b[0;36m<module>\u001b[0;34m()\u001b[0m\n\u001b[0;32m----> 1\u001b[0;31m \u001b[0me\u001b[0m\u001b[0;34m[\u001b[0m\u001b[0;36m0\u001b[0m\u001b[0;34m]\u001b[0m \u001b[0;34m=\u001b[0m \u001b[0;36m44\u001b[0m\u001b[0;34m\u001b[0m\u001b[0;34m\u001b[0m\u001b[0m\n\u001b[0m",
      "\u001b[0;31mTypeError\u001b[0m: 'tuple' object does not support item assignment"
     ]
    }
   ],
   "source": [
    "e[0] = 44"
   ]
  },
  {
   "cell_type": "code",
   "execution_count": null,
   "metadata": {
    "colab": {
     "base_uri": "https://localhost:8080/"
    },
    "id": "3okkJUgFNdfN",
    "outputId": "9462bab0-485b-4244-9ea7-65e910bf3e96"
   },
   "outputs": [
    {
     "name": "stdout",
     "output_type": "stream",
     "text": [
      "[4, 7, 3, 2, 9, 4]\n"
     ]
    }
   ],
   "source": [
    "e1 = list(e)     #Typecasting\n",
    "print(e1)"
   ]
  },
  {
   "cell_type": "markdown",
   "metadata": {
    "id": "7c7NNKkIOZa2"
   },
   "source": [
    "#Dictionary"
   ]
  },
  {
   "cell_type": "code",
   "execution_count": null,
   "metadata": {
    "colab": {
     "base_uri": "https://localhost:8080/"
    },
    "id": "EMY3upFrNmSu",
    "outputId": "9f714cef-98eb-4dd7-c0e1-4bbad59b4f3b"
   },
   "outputs": [
    {
     "name": "stdout",
     "output_type": "stream",
     "text": [
      "dict_keys(['name', 'email'])\n",
      "dict_values(['Bipul', 'bipul@abc.com'])\n"
     ]
    }
   ],
   "source": [
    "#Dictionary : - Key value pair\n",
    "f = {'name':'Bipul' , 'email':'bipul@abc.com'}\n",
    "print(f.keys())\n",
    "print(f.values())"
   ]
  },
  {
   "cell_type": "code",
   "execution_count": null,
   "metadata": {
    "colab": {
     "base_uri": "https://localhost:8080/"
    },
    "id": "lsrIogmsOjRk",
    "outputId": "4540181e-859f-4ed5-8a89-475777046c42"
   },
   "outputs": [
    {
     "name": "stdout",
     "output_type": "stream",
     "text": [
      "Bipul\n",
      "bipul@abc.com\n"
     ]
    }
   ],
   "source": [
    "print(f['name'])\n",
    "print(f['email'])"
   ]
  },
  {
   "cell_type": "code",
   "execution_count": null,
   "metadata": {
    "colab": {
     "base_uri": "https://localhost:8080/"
    },
    "id": "S_OKZXWgOm2S",
    "outputId": "eab8aa0c-f78d-461c-b3b3-ab4f354b6452"
   },
   "outputs": [
    {
     "name": "stdout",
     "output_type": "stream",
     "text": [
      "{'name': 'Bipul', 'email': 'bipul@abc.com', 'age': 33}\n"
     ]
    }
   ],
   "source": [
    "f['age'] = 33\n",
    "print(f)"
   ]
  },
  {
   "cell_type": "markdown",
   "metadata": {
    "id": "kgAC1gdLPww_"
   },
   "source": [
    "#Operands"
   ]
  },
  {
   "cell_type": "code",
   "execution_count": null,
   "metadata": {
    "colab": {
     "base_uri": "https://localhost:8080/"
    },
    "id": "yAxPoNVcOvce",
    "outputId": "bce621ae-1159-4fe6-d4dc-5d8c66b6cdbe"
   },
   "outputs": [
    {
     "name": "stdout",
     "output_type": "stream",
     "text": [
      "22.0\n",
      "12.0\n",
      "85.0\n",
      "3.4\n",
      "1419857.0\n",
      "3.0\n",
      "2.0\n"
     ]
    }
   ],
   "source": [
    "x = 17.0\n",
    "y = 5\n",
    "\n",
    "print(x+y)\n",
    "print(x-y)\n",
    "print(x*y)\n",
    "print(x/y)\n",
    "print(x**y)\n",
    "print(x//y)\n",
    "print(x%y)"
   ]
  },
  {
   "cell_type": "code",
   "execution_count": null,
   "metadata": {
    "colab": {
     "base_uri": "https://localhost:8080/"
    },
    "id": "4hSjgcqtP8rZ",
    "outputId": "c75f83a9-b350-4ccf-bebc-f2a26bf4b632"
   },
   "outputs": [
    {
     "name": "stdout",
     "output_type": "stream",
     "text": [
      "False\n",
      "True\n",
      "True\n",
      "False\n",
      "True\n",
      "False\n"
     ]
    }
   ],
   "source": [
    "#Coparasion Operator\n",
    "print(x == y)     #equality\n",
    "print(x != y)     #Inequality\n",
    "print(x >= y)\n",
    "print(x <= y)\n",
    "print(x > y)\n",
    "print(x < y)"
   ]
  },
  {
   "cell_type": "code",
   "execution_count": null,
   "metadata": {
    "colab": {
     "base_uri": "https://localhost:8080/"
    },
    "id": "grhmXaSCQeoN",
    "outputId": "000a1b4a-5795-4b82-d12a-256876b369fe"
   },
   "outputs": [
    {
     "name": "stdout",
     "output_type": "stream",
     "text": [
      "1\n",
      "0\n",
      "0\n",
      "0\n"
     ]
    }
   ],
   "source": [
    "#Bit wise operator\n",
    "print(1 & 1)\n",
    "print(1 & 0)\n",
    "print(0 & 1)\n",
    "print(0 & 0)"
   ]
  },
  {
   "cell_type": "code",
   "execution_count": null,
   "metadata": {
    "colab": {
     "base_uri": "https://localhost:8080/"
    },
    "id": "DfE7n1qTQ4Fe",
    "outputId": "ddecf7e7-ed7a-433e-abcc-8e90834065de"
   },
   "outputs": [
    {
     "name": "stdout",
     "output_type": "stream",
     "text": [
      "True\n",
      "False\n",
      "False\n",
      "False\n"
     ]
    }
   ],
   "source": [
    "print(True & True)\n",
    "print(True & False)\n",
    "print(False & True)\n",
    "print(False & False)"
   ]
  },
  {
   "cell_type": "code",
   "execution_count": null,
   "metadata": {
    "colab": {
     "base_uri": "https://localhost:8080/"
    },
    "id": "Ifx8mu_wRBsf",
    "outputId": "c87f0e43-0096-4177-ba05-a63554979810"
   },
   "outputs": [
    {
     "name": "stdout",
     "output_type": "stream",
     "text": [
      "1\n",
      "1\n",
      "1\n",
      "0\n"
     ]
    }
   ],
   "source": [
    "print(1 | 1)\n",
    "print(1 | 0)\n",
    "print(0 | 1)\n",
    "print(0 | 0)"
   ]
  },
  {
   "cell_type": "code",
   "execution_count": null,
   "metadata": {
    "colab": {
     "base_uri": "https://localhost:8080/"
    },
    "id": "Brfvrxv6RFbo",
    "outputId": "26a5164a-a777-4919-f66b-358d33832602"
   },
   "outputs": [
    {
     "name": "stdout",
     "output_type": "stream",
     "text": [
      "True\n",
      "True\n",
      "True\n",
      "False\n"
     ]
    }
   ],
   "source": [
    "print(True | True)\n",
    "print(True | False)\n",
    "print(False | True)\n",
    "print(False | False)"
   ]
  },
  {
   "cell_type": "code",
   "execution_count": null,
   "metadata": {
    "colab": {
     "base_uri": "https://localhost:8080/"
    },
    "id": "nZ9KlXCWRLlV",
    "outputId": "296df713-7aae-4a76-d036-52f4b39b88f1"
   },
   "outputs": [
    {
     "name": "stdout",
     "output_type": "stream",
     "text": [
      "[4, 5, 7, 8, 9, 1, 4, 6, 8]\n"
     ]
    }
   ],
   "source": [
    "x = [4,5,7,8,9]\n",
    "y = [1,4,6,8]\n",
    "print(x+y)"
   ]
  },
  {
   "cell_type": "code",
   "execution_count": null,
   "metadata": {
    "colab": {
     "base_uri": "https://localhost:8080/"
    },
    "id": "anzkdfvqSBaM",
    "outputId": "3f99002f-a5a1-4b32-c053-22b490d5ec36"
   },
   "outputs": [
    {
     "name": "stdout",
     "output_type": "stream",
     "text": [
      "[4, 5, 7, 8, 9, 4, 5, 7, 8, 9, 4, 5, 7, 8, 9]\n"
     ]
    }
   ],
   "source": [
    "print(x*3)"
   ]
  },
  {
   "cell_type": "code",
   "execution_count": null,
   "metadata": {
    "colab": {
     "base_uri": "https://localhost:8080/",
     "height": 173
    },
    "id": "IiSEVc8cSHIu",
    "outputId": "10cc9d38-aece-4ea2-af18-9988e38fb59a"
   },
   "outputs": [
    {
     "ename": "TypeError",
     "evalue": "ignored",
     "output_type": "error",
     "traceback": [
      "\u001b[0;31m---------------------------------------------------------------------------\u001b[0m",
      "\u001b[0;31mTypeError\u001b[0m                                 Traceback (most recent call last)",
      "\u001b[0;32m<ipython-input-65-fa88d19b8e29>\u001b[0m in \u001b[0;36m<module>\u001b[0;34m()\u001b[0m\n\u001b[0;32m----> 1\u001b[0;31m \u001b[0mprint\u001b[0m\u001b[0;34m(\u001b[0m\u001b[0mx\u001b[0m\u001b[0;34m*\u001b[0m\u001b[0my\u001b[0m\u001b[0;34m)\u001b[0m\u001b[0;34m\u001b[0m\u001b[0;34m\u001b[0m\u001b[0m\n\u001b[0m",
      "\u001b[0;31mTypeError\u001b[0m: can't multiply sequence by non-int of type 'list'"
     ]
    }
   ],
   "source": [
    "print(x*y)"
   ]
  },
  {
   "cell_type": "code",
   "execution_count": null,
   "metadata": {
    "colab": {
     "base_uri": "https://localhost:8080/"
    },
    "id": "T6hyJck6SJoa",
    "outputId": "079e7471-bc13-4397-e6eb-b22fa71ea730"
   },
   "outputs": [
    {
     "name": "stdout",
     "output_type": "stream",
     "text": [
      "True\n",
      "False\n"
     ]
    }
   ],
   "source": [
    "#membership operator\n",
    "x = [4,5,7,8,9]\n",
    "\n",
    "print(5 in x)\n",
    "print(3 in x)"
   ]
  },
  {
   "cell_type": "code",
   "execution_count": null,
   "metadata": {
    "colab": {
     "base_uri": "https://localhost:8080/"
    },
    "id": "z_huneC_SmmD",
    "outputId": "6b07cdec-2575-41f6-aca4-4b78a62d8b8c"
   },
   "outputs": [
    {
     "name": "stdout",
     "output_type": "stream",
     "text": [
      "False\n",
      "True\n"
     ]
    }
   ],
   "source": [
    "print(5 not in x)\n",
    "print(3 not in x)"
   ]
  },
  {
   "cell_type": "code",
   "execution_count": null,
   "metadata": {
    "colab": {
     "base_uri": "https://localhost:8080/"
    },
    "id": "67X2OiGCSsjy",
    "outputId": "d8e4e2e1-33fd-48d5-88ee-a8341c9c8e8d"
   },
   "outputs": [
    {
     "name": "stdout",
     "output_type": "stream",
     "text": [
      "False\n",
      "True\n"
     ]
    }
   ],
   "source": [
    "name = 'Bipul Kumar Shahi'\n",
    "print('bipul' in name)\n",
    "print('B' in name)"
   ]
  },
  {
   "cell_type": "markdown",
   "metadata": {
    "id": "NoOB9YNMUSy8"
   },
   "source": [
    "#If-else"
   ]
  },
  {
   "cell_type": "code",
   "execution_count": null,
   "metadata": {
    "colab": {
     "base_uri": "https://localhost:8080/"
    },
    "id": "WVeafc2MUP2F",
    "outputId": "324b5f90-30f9-4d2e-af28-2bb07b6ded72"
   },
   "outputs": [
    {
     "name": "stdout",
     "output_type": "stream",
     "text": [
      "Hello\n"
     ]
    }
   ],
   "source": [
    "if True:\n",
    "  print('Hello')"
   ]
  },
  {
   "cell_type": "code",
   "execution_count": null,
   "metadata": {
    "id": "dtaHsQgIS0sM"
   },
   "outputs": [],
   "source": [
    "if False:\n",
    "  print('Welcome')"
   ]
  },
  {
   "cell_type": "code",
   "execution_count": null,
   "metadata": {
    "colab": {
     "base_uri": "https://localhost:8080/"
    },
    "id": "pknRqq1KUaPT",
    "outputId": "f8684d57-9f8b-47f3-eb3b-7f7fb8753b79"
   },
   "outputs": [
    {
     "name": "stdout",
     "output_type": "stream",
     "text": [
      "value of x is less then 3 times of y\n",
      "7\n",
      "Hello, How are you\n"
     ]
    }
   ],
   "source": [
    "x = 12\n",
    "y = 5\n",
    "if x/5 >= 3:\n",
    "  print('value of x is more then 3 times of y')\n",
    "  z = x + y\n",
    "  print(z)\n",
    "else:\n",
    "  print('value of x is less then 3 times of y')\n",
    "  z = x - y\n",
    "  print(z)\n",
    "\n",
    "print('Hello, How are you')"
   ]
  },
  {
   "cell_type": "code",
   "execution_count": null,
   "metadata": {
    "colab": {
     "base_uri": "https://localhost:8080/"
    },
    "id": "acDk-wysU9yL",
    "outputId": "45060c2f-36ba-42df-d52b-541410383e72"
   },
   "outputs": [
    {
     "name": "stdout",
     "output_type": "stream",
     "text": [
      "Enter user nameBipul\n",
      "Enter Password12345\n",
      "Welcome\n"
     ]
    }
   ],
   "source": [
    "uname = input('Enter user name')\n",
    "upass = input('Enter Password')\n",
    "\n",
    "if((uname == 'Bipul') & (upass == '12345')):\n",
    "  print('Welcome')\n",
    "else:\n",
    "  print('Wromg Credentials')"
   ]
  },
  {
   "cell_type": "code",
   "execution_count": null,
   "metadata": {
    "colab": {
     "base_uri": "https://localhost:8080/"
    },
    "id": "v5rh_HRjWFnT",
    "outputId": "dc427658-a4c5-4ba5-d740-8c61dff2174a"
   },
   "outputs": [
    {
     "name": "stdout",
     "output_type": "stream",
     "text": [
      "Enter a number56\n",
      "<class 'str'>\n",
      "112.0\n"
     ]
    }
   ],
   "source": [
    "val = input('Enter a number')    #typecasting if input value needs to be considered as int\n",
    "print(type(val))\n",
    "print(float(val) * 2)"
   ]
  },
  {
   "cell_type": "code",
   "execution_count": null,
   "metadata": {
    "colab": {
     "base_uri": "https://localhost:8080/"
    },
    "id": "pn5nyO-zXC9Z",
    "outputId": "18c5d749-f1cf-4f4a-e72a-854d349eccdd"
   },
   "outputs": [
    {
     "data": {
      "text/plain": [
       "60"
      ]
     },
     "execution_count": 95,
     "metadata": {},
     "output_type": "execute_result"
    }
   ],
   "source": [
    "int('30') * 2"
   ]
  },
  {
   "cell_type": "code",
   "execution_count": null,
   "metadata": {
    "id": "tI3DmPWTYW-4"
   },
   "outputs": [],
   "source": [
    "#WAP for login where password should not be asked if user name is wrong and user should know that user name is wrong\n",
    "#Password should be fetched only if user name is correct and then successfull login message needs to display on correct password"
   ]
  },
  {
   "cell_type": "code",
   "execution_count": null,
   "metadata": {
    "colab": {
     "base_uri": "https://localhost:8080/"
    },
    "id": "tPq_aIRnai8g",
    "outputId": "ce9b1f0c-9e63-422c-f5b9-92c6ec86b6d5"
   },
   "outputs": [
    {
     "name": "stdout",
     "output_type": "stream",
     "text": [
      "Enter User NameBipul\n",
      "Enter User Passs4568\n",
      "Wrong Password\n"
     ]
    }
   ],
   "source": [
    "uname = input('Enter User Name')\n",
    "if uname == 'Bipul':\n",
    "  upass = input('Enter User Passs')\n",
    "  if upass == '12345':\n",
    "    print('Welcome')\n",
    "  else:\n",
    "    print('Wrong Password')\n",
    "else:\n",
    "  print('Wrong User Name')"
   ]
  }
 ],
 "metadata": {
  "colab": {
   "name": "Python_Demo_1_20_dec_21.ipynb",
   "provenance": []
  },
  "kernelspec": {
   "display_name": "Python 3",
   "language": "python",
   "name": "python3"
  },
  "language_info": {
   "codemirror_mode": {
    "name": "ipython",
    "version": 3
   },
   "file_extension": ".py",
   "mimetype": "text/x-python",
   "name": "python",
   "nbconvert_exporter": "python",
   "pygments_lexer": "ipython3",
   "version": "3.8.8"
  }
 },
 "nbformat": 4,
 "nbformat_minor": 1
}
