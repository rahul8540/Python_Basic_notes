{
 "cells": [
  {
   "cell_type": "markdown",
   "metadata": {
    "id": "uwQ_IjmBTGOr"
   },
   "source": [
    "#Loopings"
   ]
  },
  {
   "cell_type": "code",
   "execution_count": null,
   "metadata": {
    "colab": {
     "base_uri": "https://localhost:8080/"
    },
    "id": "g2NwLfkFS24d",
    "outputId": "6dbed9fc-f5cb-444f-bfb2-11f3417284ad"
   },
   "outputs": [
    {
     "name": "stdout",
     "output_type": "stream",
     "text": [
      "Hello\n",
      "Hello\n",
      "Hello\n",
      "Hello\n",
      "Hello\n"
     ]
    }
   ],
   "source": [
    "print('Hello')\n",
    "print('Hello')\n",
    "print('Hello')\n",
    "print('Hello')\n",
    "print('Hello')"
   ]
  },
  {
   "cell_type": "code",
   "execution_count": null,
   "metadata": {
    "colab": {
     "base_uri": "https://localhost:8080/"
    },
    "id": "DlvOsEpdS-us",
    "outputId": "38bba1bc-c388-4746-9900-201214b5db03"
   },
   "outputs": [
    {
     "name": "stdout",
     "output_type": "stream",
     "text": [
      "0 Hello\n",
      "1 Hello\n",
      "2 Hello\n",
      "3 Hello\n",
      "4 Hello\n",
      "5 Hello\n",
      "6 Hello\n",
      "7 Hello\n",
      "8 Hello\n",
      "9 Hello\n"
     ]
    }
   ],
   "source": [
    "#for\n",
    "for i in range(0,10):\n",
    "  print(i,'Hello')"
   ]
  },
  {
   "cell_type": "code",
   "execution_count": null,
   "metadata": {
    "colab": {
     "base_uri": "https://localhost:8080/"
    },
    "id": "g23mCogcTRDd",
    "outputId": "1e95f44e-213d-48e4-cf04-8f3b0005893c"
   },
   "outputs": [
    {
     "name": "stdout",
     "output_type": "stream",
     "text": [
      "0\n",
      "2\n",
      "4\n",
      "6\n",
      "8\n",
      "10\n",
      "12\n",
      "14\n",
      "16\n",
      "18\n"
     ]
    }
   ],
   "source": [
    "for i in range(0,10):\n",
    "  print(i*2)"
   ]
  },
  {
   "cell_type": "code",
   "execution_count": null,
   "metadata": {
    "colab": {
     "base_uri": "https://localhost:8080/"
    },
    "id": "mwSMc-KBTc92",
    "outputId": "ce5f0206-0a13-4c75-e862-a85075d9472d"
   },
   "outputs": [
    {
     "name": "stdout",
     "output_type": "stream",
     "text": [
      "[4, 8, 2, 6, 5, 7, 5]\n"
     ]
    }
   ],
   "source": [
    "l = [5,4,8,2,6,5,7,5]\n",
    "l.remove(5)\n",
    "print(l)"
   ]
  },
  {
   "cell_type": "code",
   "execution_count": null,
   "metadata": {
    "colab": {
     "base_uri": "https://localhost:8080/"
    },
    "id": "pYokz7MhU1Z_",
    "outputId": "934b1d46-97a5-4525-a894-eb87bc38f051"
   },
   "outputs": [
    {
     "name": "stdout",
     "output_type": "stream",
     "text": [
      "0\n",
      "7\n",
      "14\n",
      "21\n",
      "28\n"
     ]
    }
   ],
   "source": [
    "x = 4\n",
    "y = 3\n",
    "for i in range(0,5):\n",
    "  z = (x+y)*i\n",
    "  print(z)"
   ]
  },
  {
   "cell_type": "code",
   "execution_count": null,
   "metadata": {
    "colab": {
     "base_uri": "https://localhost:8080/",
     "height": 230
    },
    "id": "iy4b7XmlToMO",
    "outputId": "7a83b3b3-5b68-4550-bb00-861296118b50"
   },
   "outputs": [
    {
     "ename": "IndexError",
     "evalue": "ignored",
     "output_type": "error",
     "traceback": [
      "\u001b[0;31m---------------------------------------------------------------------------\u001b[0m",
      "\u001b[0;31mIndexError\u001b[0m                                Traceback (most recent call last)",
      "\u001b[0;32m<ipython-input-23-3d87bd0d8f7f>\u001b[0m in \u001b[0;36m<module>\u001b[0;34m()\u001b[0m\n\u001b[1;32m      2\u001b[0m \u001b[0;34m\u001b[0m\u001b[0m\n\u001b[1;32m      3\u001b[0m \u001b[0;32mfor\u001b[0m \u001b[0mi\u001b[0m \u001b[0;32min\u001b[0m \u001b[0mrange\u001b[0m\u001b[0;34m(\u001b[0m\u001b[0;36m0\u001b[0m\u001b[0;34m,\u001b[0m\u001b[0mlen\u001b[0m\u001b[0;34m(\u001b[0m\u001b[0ml\u001b[0m\u001b[0;34m)\u001b[0m\u001b[0;34m)\u001b[0m\u001b[0;34m:\u001b[0m\u001b[0;34m\u001b[0m\u001b[0;34m\u001b[0m\u001b[0m\n\u001b[0;32m----> 4\u001b[0;31m   \u001b[0;32mif\u001b[0m\u001b[0;34m(\u001b[0m\u001b[0ml\u001b[0m\u001b[0;34m[\u001b[0m\u001b[0mi\u001b[0m\u001b[0;34m]\u001b[0m \u001b[0;34m==\u001b[0m \u001b[0;36m5\u001b[0m\u001b[0;34m)\u001b[0m\u001b[0;34m:\u001b[0m\u001b[0;34m\u001b[0m\u001b[0;34m\u001b[0m\u001b[0m\n\u001b[0m\u001b[1;32m      5\u001b[0m     \u001b[0ml\u001b[0m\u001b[0;34m.\u001b[0m\u001b[0mremove\u001b[0m\u001b[0;34m(\u001b[0m\u001b[0ml\u001b[0m\u001b[0;34m[\u001b[0m\u001b[0mi\u001b[0m\u001b[0;34m]\u001b[0m\u001b[0;34m)\u001b[0m\u001b[0;34m\u001b[0m\u001b[0;34m\u001b[0m\u001b[0m\n",
      "\u001b[0;31mIndexError\u001b[0m: list index out of range"
     ]
    }
   ],
   "source": [
    "l = [5,4,8,2,6,5,7,5]\n",
    "\n",
    "for i in range(0,len(l)):\n",
    "  if(l[i] == 5):\n",
    "    l.remove(l[i])"
   ]
  },
  {
   "cell_type": "code",
   "execution_count": null,
   "metadata": {
    "id": "3iiKN3-uTz-c"
   },
   "outputs": [],
   "source": [
    "l = [5,4,8,2,6,5,7,5]\n",
    "for val in l:\n",
    "  if(val == 5):\n",
    "    l.remove(val)"
   ]
  },
  {
   "cell_type": "code",
   "execution_count": null,
   "metadata": {
    "colab": {
     "base_uri": "https://localhost:8080/"
    },
    "id": "AeHG8hNvUf0S",
    "outputId": "27060a90-f33a-4070-a386-eeacb9dc10f3"
   },
   "outputs": [
    {
     "name": "stdout",
     "output_type": "stream",
     "text": [
      "[4, 8, 2, 6, 7]\n"
     ]
    }
   ],
   "source": [
    "print(l)"
   ]
  },
  {
   "cell_type": "code",
   "execution_count": null,
   "metadata": {
    "colab": {
     "base_uri": "https://localhost:8080/"
    },
    "id": "9FvJzxUPUtTc",
    "outputId": "c59c6333-8345-4cdb-de08-8edae6880727"
   },
   "outputs": [
    {
     "name": "stdout",
     "output_type": "stream",
     "text": [
      "India 5\n",
      "Japan 5\n",
      "USA 3\n",
      "France 6\n",
      "Germany 7\n"
     ]
    }
   ],
   "source": [
    "countries = ['India','Japan','USA','France','Germany']\n",
    "print(countries[0] , len(countries[0]))\n",
    "print(countries[1] , len(countries[1]))\n",
    "print(countries[2] , len(countries[2]))\n",
    "print(countries[3] , len(countries[3]))\n",
    "print(countries[4] , len(countries[4]))"
   ]
  },
  {
   "cell_type": "code",
   "execution_count": null,
   "metadata": {
    "colab": {
     "base_uri": "https://localhost:8080/"
    },
    "id": "HPipCG3RV63C",
    "outputId": "1724e22d-675f-4d24-872e-b5e64cd45bb4"
   },
   "outputs": [
    {
     "name": "stdout",
     "output_type": "stream",
     "text": [
      "India 5\n",
      "Japan 5\n",
      "USA 3\n",
      "France 6\n",
      "Germany 7\n"
     ]
    }
   ],
   "source": [
    "for i in countries:\n",
    "  print (i, len(i))"
   ]
  },
  {
   "cell_type": "code",
   "execution_count": null,
   "metadata": {
    "colab": {
     "base_uri": "https://localhost:8080/"
    },
    "id": "QuvJD7lPW3fF",
    "outputId": "41d7fe1f-29ff-48c0-a7b1-af08ece3f968"
   },
   "outputs": [
    {
     "name": "stdout",
     "output_type": "stream",
     "text": [
      "india length =  5\n",
      "japan length =  5\n",
      "usa length =  3\n",
      "france length =  6\n",
      "germany length =  7\n"
     ]
    }
   ],
   "source": [
    "countries = ['india','japan','usa','france','germany']\n",
    "for i in range(0,len(countries)):\n",
    "    print(countries[i],'length = ',len(countries[i]))"
   ]
  },
  {
   "cell_type": "code",
   "execution_count": null,
   "metadata": {
    "colab": {
     "base_uri": "https://localhost:8080/"
    },
    "id": "R2o5ewaoXngL",
    "outputId": "7b977aac-4ac3-4ed5-ac0b-5743c56c61ca"
   },
   "outputs": [
    {
     "name": "stdout",
     "output_type": "stream",
     "text": [
      "0 ind\n",
      "1 jap\n",
      "2 chain\n",
      "3 afgan\n",
      "4 Usa\n"
     ]
    }
   ],
   "source": [
    "a=[4,5,6,7]\n",
    "b=['ind','jap','chain','afgan','Usa']\n",
    "for i in range(0,len(b)):\n",
    "    print (i, b[i])"
   ]
  },
  {
   "cell_type": "markdown",
   "metadata": {
    "id": "FKyvNvlYYUkA"
   },
   "source": [
    "#While Loop"
   ]
  },
  {
   "cell_type": "code",
   "execution_count": null,
   "metadata": {
    "colab": {
     "base_uri": "https://localhost:8080/"
    },
    "id": "NyP2CV69YDZ6",
    "outputId": "cc9194a3-1e24-484b-9bbc-d04fc0dc3683"
   },
   "outputs": [
    {
     "name": "stdout",
     "output_type": "stream",
     "text": [
      "Hello\n",
      "Hello\n",
      "Hello\n",
      "Hello\n",
      "Hello\n",
      "Hello\n",
      "Hello\n",
      "Hello\n",
      "Hello\n",
      "Hello\n"
     ]
    }
   ],
   "source": [
    "i = 0\n",
    "while i < 10:\n",
    "  print('Hello')\n",
    "  i = i + 1"
   ]
  },
  {
   "cell_type": "code",
   "execution_count": null,
   "metadata": {
    "colab": {
     "base_uri": "https://localhost:8080/"
    },
    "id": "8E0dljE-Y-k6",
    "outputId": "17972eab-115a-4e0d-dc7e-d6e12a8d90bf"
   },
   "outputs": [
    {
     "name": "stdout",
     "output_type": "stream",
     "text": [
      "Hello\n",
      "Hello\n",
      "Hello\n",
      "Hello\n",
      "Hello\n"
     ]
    }
   ],
   "source": [
    "i = 0\n",
    "while i < 10:\n",
    "  print('Hello')\n",
    "  i = i+2"
   ]
  },
  {
   "cell_type": "code",
   "execution_count": null,
   "metadata": {
    "id": "k8Ocm_KyZda4"
   },
   "outputs": [],
   "source": [
    "while False:\n",
    "  print('Hello')"
   ]
  },
  {
   "cell_type": "code",
   "execution_count": null,
   "metadata": {
    "colab": {
     "base_uri": "https://localhost:8080/"
    },
    "id": "p7g24qn2ZuHw",
    "outputId": "4f35ef67-6111-4149-fa87-7837f46c3fe6"
   },
   "outputs": [
    {
     "name": "stdout",
     "output_type": "stream",
     "text": [
      "india 5\n",
      "japan 5\n",
      "usa 3\n",
      "france 6\n",
      "germany 7\n"
     ]
    }
   ],
   "source": [
    "countries = ['india','japan','usa','france','germany']\n",
    "\n",
    "i = 0\n",
    "while i < len(countries):\n",
    "  print(countries[i] , len(countries[i]))\n",
    "  i = i+1"
   ]
  },
  {
   "cell_type": "markdown",
   "metadata": {
    "id": "N90IHZSMae08"
   },
   "source": [
    "#Functions"
   ]
  },
  {
   "cell_type": "code",
   "execution_count": null,
   "metadata": {
    "colab": {
     "base_uri": "https://localhost:8080/"
    },
    "id": "fVwKPDFNaJWO",
    "outputId": "84d600a1-8839-46dc-e3fb-845f6d028078"
   },
   "outputs": [
    {
     "name": "stdout",
     "output_type": "stream",
     "text": [
      "9\n"
     ]
    }
   ],
   "source": [
    "a = 6\n",
    "b = 3\n",
    "c = a + b\n",
    "print(c)"
   ]
  },
  {
   "cell_type": "code",
   "execution_count": null,
   "metadata": {
    "id": "JpMXg3hubQEm"
   },
   "outputs": [],
   "source": [
    "def myfunc():\n",
    "  a = 6\n",
    "  b = 3\n",
    "  c = a+b\n",
    "  print(c)"
   ]
  },
  {
   "cell_type": "code",
   "execution_count": null,
   "metadata": {
    "colab": {
     "base_uri": "https://localhost:8080/"
    },
    "id": "-TJb5eUobVnz",
    "outputId": "fe4ffa20-81c1-4f90-da26-123d62969488"
   },
   "outputs": [
    {
     "name": "stdout",
     "output_type": "stream",
     "text": [
      "9\n",
      "Hello World\n",
      "9\n",
      "10\n",
      "50.0\n",
      "9\n"
     ]
    }
   ],
   "source": [
    "myfunc()\n",
    "print('Hello World')\n",
    "myfunc()\n",
    "print(5*2)\n",
    "print(100/2)\n",
    "myfunc()"
   ]
  },
  {
   "cell_type": "code",
   "execution_count": null,
   "metadata": {
    "colab": {
     "base_uri": "https://localhost:8080/"
    },
    "id": "v2ytt6tBbdIl",
    "outputId": "f0b66de3-bc5a-454a-f666-39c5424d27a3"
   },
   "outputs": [
    {
     "data": {
      "text/plain": [
       "18"
      ]
     },
     "execution_count": 52,
     "metadata": {},
     "output_type": "execute_result"
    }
   ],
   "source": [
    "9*2"
   ]
  },
  {
   "cell_type": "code",
   "execution_count": null,
   "metadata": {
    "id": "28fRw_qNcS3U"
   },
   "outputs": [],
   "source": [
    "def newfunc():\n",
    "  a = 6\n",
    "  b = 3\n",
    "  c = a+b\n",
    "  return c"
   ]
  },
  {
   "cell_type": "code",
   "execution_count": null,
   "metadata": {
    "colab": {
     "base_uri": "https://localhost:8080/"
    },
    "id": "CzfBz8CYcDfe",
    "outputId": "a641c518-a9b8-441d-c943-e7077e5530c9"
   },
   "outputs": [
    {
     "data": {
      "text/plain": [
       "18"
      ]
     },
     "execution_count": 60,
     "metadata": {},
     "output_type": "execute_result"
    }
   ],
   "source": [
    "z = newfunc()\n",
    "z*2"
   ]
  },
  {
   "cell_type": "code",
   "execution_count": null,
   "metadata": {
    "id": "cE0OCfu7cGgk"
   },
   "outputs": [],
   "source": [
    "#Function with arguments\n",
    "def newfunc(a,b):\n",
    "  c = a+b\n",
    "  return c"
   ]
  },
  {
   "cell_type": "code",
   "execution_count": null,
   "metadata": {
    "colab": {
     "base_uri": "https://localhost:8080/"
    },
    "id": "_gEDk40xc906",
    "outputId": "01c8beb8-5bce-4f14-8a37-8fdccd4c5aa2"
   },
   "outputs": [
    {
     "data": {
      "text/plain": [
       "5"
      ]
     },
     "execution_count": 62,
     "metadata": {},
     "output_type": "execute_result"
    }
   ],
   "source": [
    "newfunc(3,2)"
   ]
  },
  {
   "cell_type": "code",
   "execution_count": null,
   "metadata": {
    "colab": {
     "base_uri": "https://localhost:8080/"
    },
    "id": "i8UwSkmzdAKZ",
    "outputId": "65460d05-ed8c-4e26-eee4-12a8b1976c22"
   },
   "outputs": [
    {
     "data": {
      "text/plain": [
       "10"
      ]
     },
     "execution_count": 63,
     "metadata": {},
     "output_type": "execute_result"
    }
   ],
   "source": [
    "newfunc(6,4)"
   ]
  },
  {
   "cell_type": "code",
   "execution_count": null,
   "metadata": {
    "colab": {
     "base_uri": "https://localhost:8080/"
    },
    "id": "Pt4Kx0gxdB-a",
    "outputId": "bb8d8044-2059-4504-9a76-0162f0db0336"
   },
   "outputs": [
    {
     "data": {
      "text/plain": [
       "6"
      ]
     },
     "execution_count": 64,
     "metadata": {},
     "output_type": "execute_result"
    }
   ],
   "source": [
    "newfunc(4,2)"
   ]
  },
  {
   "cell_type": "code",
   "execution_count": null,
   "metadata": {
    "id": "2XHKDrcSdEeE"
   },
   "outputs": [],
   "source": [
    "#Scope of variable\n",
    "\n",
    "a = 5   #Global declaration\n",
    "b = 3\n",
    "\n",
    "def sumval():\n",
    "  a = 2      #Local declaration\n",
    "  b = 8\n",
    "  c = a + b\n",
    "  print(c)"
   ]
  },
  {
   "cell_type": "code",
   "execution_count": null,
   "metadata": {
    "colab": {
     "base_uri": "https://localhost:8080/"
    },
    "id": "Jm7HwTcQhVBS",
    "outputId": "487c316a-1f5d-4c33-ce73-ef314c675eb9"
   },
   "outputs": [
    {
     "name": "stdout",
     "output_type": "stream",
     "text": [
      "5 3\n"
     ]
    }
   ],
   "source": [
    "print(a,b)"
   ]
  },
  {
   "cell_type": "code",
   "execution_count": null,
   "metadata": {
    "colab": {
     "base_uri": "https://localhost:8080/"
    },
    "id": "fIwrVbb-hW0I",
    "outputId": "f64b1ffe-679f-456a-f494-5ec49a88c44c"
   },
   "outputs": [
    {
     "name": "stdout",
     "output_type": "stream",
     "text": [
      "10\n"
     ]
    }
   ],
   "source": [
    "sumval()"
   ]
  },
  {
   "cell_type": "code",
   "execution_count": null,
   "metadata": {
    "colab": {
     "base_uri": "https://localhost:8080/"
    },
    "id": "sgU3ZFPuhbBr",
    "outputId": "b957f0ec-3cc3-4f40-d15a-79079f20088b"
   },
   "outputs": [
    {
     "name": "stdout",
     "output_type": "stream",
     "text": [
      "5 3\n"
     ]
    }
   ],
   "source": [
    "print(a,b)"
   ]
  },
  {
   "cell_type": "code",
   "execution_count": null,
   "metadata": {
    "colab": {
     "base_uri": "https://localhost:8080/"
    },
    "id": "fCvGfFozdnsG",
    "outputId": "252520b3-5437-408d-9567-d214b2396b29"
   },
   "outputs": [
    {
     "name": "stdout",
     "output_type": "stream",
     "text": [
      "10\n",
      "8\n"
     ]
    }
   ],
   "source": [
    "sumval()\n",
    "z = a + b\n",
    "print(z)"
   ]
  },
  {
   "cell_type": "code",
   "execution_count": null,
   "metadata": {
    "colab": {
     "base_uri": "https://localhost:8080/"
    },
    "id": "6q56lF_VgpqY",
    "outputId": "44720d01-0d9e-4749-a1c4-4d125f47fc4f"
   },
   "outputs": [
    {
     "name": "stdout",
     "output_type": "stream",
     "text": [
      "2\n"
     ]
    }
   ],
   "source": [
    "print(a - b)"
   ]
  },
  {
   "cell_type": "code",
   "execution_count": null,
   "metadata": {
    "id": "jdb9to6vdpKc"
   },
   "outputs": [],
   "source": [
    "#Scope of variable\n",
    "\n",
    "a = 5   #Global declaration\n",
    "b = 3\n",
    "\n",
    "def sumval():\n",
    "  global a\n",
    "  global b\n",
    "\n",
    "  a = 2      #Local declaration\n",
    "  b = 8\n",
    "  c = a + b\n",
    "  print(c)"
   ]
  },
  {
   "cell_type": "code",
   "execution_count": null,
   "metadata": {
    "colab": {
     "base_uri": "https://localhost:8080/"
    },
    "id": "Dr8BZHlGhBJK",
    "outputId": "0285f594-307a-49fe-ec1e-07ea66a5a4fb"
   },
   "outputs": [
    {
     "name": "stdout",
     "output_type": "stream",
     "text": [
      "5 3\n"
     ]
    }
   ],
   "source": [
    "print(a,b)"
   ]
  },
  {
   "cell_type": "code",
   "execution_count": null,
   "metadata": {
    "colab": {
     "base_uri": "https://localhost:8080/"
    },
    "id": "cmU_ZqKlhFTY",
    "outputId": "6830c527-01b7-494f-f090-c6fa9f5e356d"
   },
   "outputs": [
    {
     "name": "stdout",
     "output_type": "stream",
     "text": [
      "10\n"
     ]
    }
   ],
   "source": [
    "sumval()"
   ]
  },
  {
   "cell_type": "code",
   "execution_count": null,
   "metadata": {
    "colab": {
     "base_uri": "https://localhost:8080/"
    },
    "id": "3IKaaCZlhKVe",
    "outputId": "4c2e5d55-272b-47a8-b2cf-f83550c46435"
   },
   "outputs": [
    {
     "name": "stdout",
     "output_type": "stream",
     "text": [
      "2 8\n"
     ]
    }
   ],
   "source": [
    "print(a,b)"
   ]
  },
  {
   "cell_type": "code",
   "execution_count": null,
   "metadata": {
    "colab": {
     "base_uri": "https://localhost:8080/"
    },
    "id": "xjy8zBwRekho",
    "outputId": "2da50b56-10bc-49a0-8bd2-4944b554d9c7"
   },
   "outputs": [
    {
     "name": "stdout",
     "output_type": "stream",
     "text": [
      "10\n",
      "10\n"
     ]
    }
   ],
   "source": [
    "sumval()\n",
    "z = a + b\n",
    "print(z)"
   ]
  },
  {
   "cell_type": "code",
   "execution_count": null,
   "metadata": {
    "id": "rWn1uHovfbLD"
   },
   "outputs": [],
   "source": [
    "def newfunc(a,b):\n",
    "  c1 = a+b\n",
    "  c2 = a-b\n",
    "  return c1,c2"
   ]
  },
  {
   "cell_type": "code",
   "execution_count": null,
   "metadata": {
    "colab": {
     "base_uri": "https://localhost:8080/"
    },
    "id": "Q79E4_K1fehV",
    "outputId": "03d09e67-e48c-4059-b38a-99a7a852aeff"
   },
   "outputs": [
    {
     "name": "stdout",
     "output_type": "stream",
     "text": [
      "8\n",
      "2\n"
     ]
    }
   ],
   "source": [
    "z1,z2 = newfunc(5,3)\n",
    "print(z1)\n",
    "print(z2)"
   ]
  },
  {
   "cell_type": "code",
   "execution_count": null,
   "metadata": {
    "colab": {
     "base_uri": "https://localhost:8080/",
     "height": 305
    },
    "id": "2slxsiRGiwFu",
    "outputId": "8035b6a2-a624-489d-9186-fbdf4eadf267"
   },
   "outputs": [
    {
     "name": "stdout",
     "output_type": "stream",
     "text": [
      "6\n",
      "8\n",
      "9\n",
      "4\n",
      "10\n"
     ]
    },
    {
     "ename": "TypeError",
     "evalue": "ignored",
     "output_type": "error",
     "traceback": [
      "\u001b[0;31m---------------------------------------------------------------------------\u001b[0m",
      "\u001b[0;31mTypeError\u001b[0m                                 Traceback (most recent call last)",
      "\u001b[0;32m<ipython-input-116-ca7b0f493325>\u001b[0m in \u001b[0;36m<module>\u001b[0;34m()\u001b[0m\n\u001b[1;32m      1\u001b[0m \u001b[0ml\u001b[0m \u001b[0;34m=\u001b[0m \u001b[0;34m[\u001b[0m\u001b[0;36m4\u001b[0m\u001b[0;34m,\u001b[0m\u001b[0;36m6\u001b[0m\u001b[0;34m,\u001b[0m\u001b[0;36m7\u001b[0m\u001b[0;34m,\u001b[0m\u001b[0;36m2\u001b[0m\u001b[0;34m,\u001b[0m\u001b[0;36m8\u001b[0m\u001b[0;34m,\u001b[0m\u001b[0;34m'Hello'\u001b[0m\u001b[0;34m,\u001b[0m\u001b[0;36m7\u001b[0m\u001b[0;34m,\u001b[0m\u001b[0;36m2\u001b[0m\u001b[0;34m]\u001b[0m\u001b[0;34m\u001b[0m\u001b[0;34m\u001b[0m\u001b[0m\n\u001b[1;32m      2\u001b[0m \u001b[0;32mfor\u001b[0m \u001b[0mval\u001b[0m \u001b[0;32min\u001b[0m \u001b[0ml\u001b[0m\u001b[0;34m:\u001b[0m\u001b[0;34m\u001b[0m\u001b[0;34m\u001b[0m\u001b[0m\n\u001b[0;32m----> 3\u001b[0;31m   \u001b[0mprint\u001b[0m\u001b[0;34m(\u001b[0m\u001b[0mval\u001b[0m \u001b[0;34m+\u001b[0m \u001b[0;36m2\u001b[0m\u001b[0;34m)\u001b[0m\u001b[0;34m\u001b[0m\u001b[0;34m\u001b[0m\u001b[0m\n\u001b[0m",
      "\u001b[0;31mTypeError\u001b[0m: can only concatenate str (not \"int\") to str"
     ]
    }
   ],
   "source": [
    "l = [4,6,7,2,8,'Hello',7,2]\n",
    "for val in l:\n",
    "  print(val + 2)"
   ]
  },
  {
   "cell_type": "code",
   "execution_count": null,
   "metadata": {
    "colab": {
     "base_uri": "https://localhost:8080/"
    },
    "id": "cCnPnGnGfkWb",
    "outputId": "394f7934-3546-4244-f106-bed109be0147"
   },
   "outputs": [
    {
     "name": "stdout",
     "output_type": "stream",
     "text": [
      "6\n",
      "8\n",
      "9\n",
      "4\n",
      "10\n",
      "Hello <class 'str'>\n",
      "9\n",
      "4\n"
     ]
    }
   ],
   "source": [
    "l = [4,6,7,2,8,'Hello',7,2]\n",
    "\n",
    "for val in l:\n",
    "  try:\n",
    "    print(val + 2)\n",
    "  except:\n",
    "    print(val,type(val))"
   ]
  },
  {
   "cell_type": "code",
   "execution_count": null,
   "metadata": {
    "colab": {
     "base_uri": "https://localhost:8080/"
    },
    "id": "9UGRD2fgiC9q",
    "outputId": "d7ec24fd-6cfd-4c34-e9d1-54a59cadc3de"
   },
   "outputs": [
    {
     "name": "stdout",
     "output_type": "stream",
     "text": [
      "6\n",
      "8\n",
      "9\n",
      "4\n",
      "10\n",
      "9\n",
      "4\n"
     ]
    }
   ],
   "source": [
    "for val in l:\n",
    "  try:\n",
    "    print(val + 2)\n",
    "  except:\n",
    "    pass"
   ]
  },
  {
   "cell_type": "code",
   "execution_count": null,
   "metadata": {
    "colab": {
     "base_uri": "https://localhost:8080/"
    },
    "id": "sEcApSVGiqie",
    "outputId": "8a00d36a-3011-4415-a2af-55ca2322003b"
   },
   "outputs": [
    {
     "name": "stdout",
     "output_type": "stream",
     "text": [
      "6\n",
      "8\n",
      "9\n",
      "4\n",
      "10\n",
      "H <class 'str'> 72\n",
      "9\n",
      "4\n"
     ]
    }
   ],
   "source": [
    "l = [4,6,7,2,8,'H',7,2]\n",
    "\n",
    "for val in l:\n",
    "  try:\n",
    "    print(val + 2)\n",
    "  except:\n",
    "    print(val,type(val),ord(val))"
   ]
  },
  {
   "cell_type": "code",
   "execution_count": null,
   "metadata": {
    "id": "zBBlYW-CjNqb"
   },
   "outputs": [],
   "source": []
  }
 ],
 "metadata": {
  "colab": {
   "name": "Python_Demo_2_23rd_dec.ipynb",
   "provenance": []
  },
  "kernelspec": {
   "display_name": "Python 3",
   "language": "python",
   "name": "python3"
  },
  "language_info": {
   "codemirror_mode": {
    "name": "ipython",
    "version": 3
   },
   "file_extension": ".py",
   "mimetype": "text/x-python",
   "name": "python",
   "nbconvert_exporter": "python",
   "pygments_lexer": "ipython3",
   "version": "3.8.8"
  }
 },
 "nbformat": 4,
 "nbformat_minor": 1
}
